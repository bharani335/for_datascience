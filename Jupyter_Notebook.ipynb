{
 "cells": [
  {
   "cell_type": "markdown",
   "metadata": {},
   "source": [
    "# My Jupyter Notebook on IBM Watson Studio"
   ]
  },
  {
   "cell_type": "markdown",
   "metadata": {},
   "source": [
    "**Bharanikumar S**\n",
    "\n",
    "Data Scientist"
   ]
  },
  {
   "cell_type": "markdown",
   "metadata": {},
   "source": [
    "*I am interested in data science because, I love to play with the data. Also I love to code. So Data science gives an optimal way love these two in the same time. It is the combination of the both.*"
   ]
  },
  {
   "cell_type": "markdown",
   "metadata": {},
   "source": [
    "### Now I'm printing a Pyramid pattern using python"
   ]
  },
  {
   "cell_type": "code",
   "execution_count": 10,
   "metadata": {},
   "outputs": [
    {
     "name": "stdout",
     "output_type": "stream",
     "text": [
      "                      \n",
      "                    * \n",
      "                  * * * \n",
      "                * * * * * \n",
      "              * * * * * * * \n",
      "            * * * * * * * * * \n",
      "          * * * * * * * * * * * \n",
      "        * * * * * * * * * * * * * \n",
      "      * * * * * * * * * * * * * * * \n",
      "    * * * * * * * * * * * * * * * * * \n",
      "  * * * * * * * * * * * * * * * * * * * \n"
     ]
    }
   ],
   "source": [
    "n = 10\n",
    "for i in range(n+1):\n",
    "    print(\"  \"*(n+1-i), end=\"\")\n",
    "    print(\"* \"*i, \"* \"*(i-1), sep=\"\")\n"
   ]
  },
  {
   "cell_type": "markdown",
   "metadata": {},
   "source": [
    "### Horizontal Rule\n",
    "\n",
    "---\n",
    "\n",
    "Hyphens\n",
    "\n",
    "***\n",
    "\n",
    "Asterisks\n",
    "\n",
    "___\n",
    "\n",
    "Underscores\n",
    "\n",
    "### Bulleted list\n",
    "+ Item1\n",
    "+ Item2\n",
    "+ Item3\n",
    "\n",
    "### Numbered list\n",
    "1. Item1\n",
    "2. Item2\n",
    "3. Item3\n",
    "\n",
    "### Tables\n",
    "Table with 3 rows and 3 columns\n",
    "| Table Header 1 | Table Header 2 | Table Header 3 |\n",
    "|:--------------:|:--------------:|:--------------:|\n",
    "| Col 1          | Col 1          | Col 1          |\n",
    "| Col 2          | Col 2          | Col 2          |\n",
    "| Col 3          | Col 3          | Col 3          |\n",
    "\n",
    "### Blocked quotes\n",
    "> Never Give up your Dream\n",
    "\n",
    "### Strikethrough\n",
    "Everything is ~~Im~~possible"
   ]
  },
  {
   "cell_type": "code",
   "execution_count": null,
   "metadata": {},
   "outputs": [],
   "source": []
  }
 ],
 "metadata": {
  "kernelspec": {
   "display_name": "Python",
   "language": "python",
   "name": "conda-env-python-py"
  },
  "language_info": {
   "codemirror_mode": {
    "name": "ipython",
    "version": 3
   },
   "file_extension": ".py",
   "mimetype": "text/x-python",
   "name": "python",
   "nbconvert_exporter": "python",
   "pygments_lexer": "ipython3",
   "version": "3.7.12"
  }
 },
 "nbformat": 4,
 "nbformat_minor": 4
}
